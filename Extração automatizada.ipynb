{
 "cells": [
  {
   "cell_type": "code",
   "execution_count": 2,
   "metadata": {},
   "outputs": [
    {
     "name": "stdout",
     "output_type": "stream",
     "text": [
      "Note: you may need to restart the kernel to use updated packages.\n"
     ]
    },
    {
     "name": "stderr",
     "output_type": "stream",
     "text": [
      "ERROR: unknown command \"!\"\n",
      "\n"
     ]
    }
   ],
   "source": [
    "pip! install requests"
   ]
  },
  {
   "cell_type": "code",
   "execution_count": 1,
   "metadata": {},
   "outputs": [],
   "source": [
    "import requests\n",
    "import pprint"
   ]
  },
  {
   "cell_type": "code",
   "execution_count": 2,
   "metadata": {},
   "outputs": [],
   "source": [
    "link = \"https://servicodados.ibge.gov.br/api/v3/agregados/1287/periodos/1920|1940|1950|1960|1970|1980|1991|2000|2010/variaveis/591?localidades=N6[all]\"\n",
    "\n",
    "requisicao = requests.get(link)\n",
    "informacoes = requisicao.json()"
   ]
  },
  {
   "cell_type": "code",
   "execution_count": 3,
   "metadata": {},
   "outputs": [
    {
     "name": "stdout",
     "output_type": "stream",
     "text": [
      "['Porto Velho - RO', 'Rio Branco - AC', 'Manaus - AM', 'Boa Vista - RR', 'Belém - PA', 'Macapá - AP', 'Palmas - TO', 'São Luís - MA', 'Teresina - PI', 'Fortaleza - CE', 'Natal - RN', 'João Pessoa - PB', 'Recife - PE', 'Maceió - AL', 'Aracaju - SE', 'Salvador - BA', 'Belo Horizonte - MG', 'Vitória - ES', 'Rio de Janeiro - RJ', 'São Paulo - SP', 'Curitiba - PR', 'Florianópolis - SC', 'Porto Alegre - RS', 'Campo Grande - MS', 'Cuiabá - MT', 'Goiânia - GO', 'Brasília - DF']\n"
     ]
    }
   ],
   "source": [
    "# Lista para armazenar os nomes das cidades\n",
    "cidades = []\n",
    "\n",
    "# Acessar a estrutura do JSON e extrair as cidades\n",
    "for resultado in informacoes[0]['resultados']:\n",
    "    for serie in resultado['series']:\n",
    "        cidade = serie['localidade']['nome']\n",
    "        cidades.append(cidade)\n",
    "\n",
    "# Exibir a lista de cidades\n",
    "print(cidades)\n"
   ]
  },
  {
   "cell_type": "code",
   "execution_count": 4,
   "metadata": {},
   "outputs": [
    {
     "data": {
      "text/plain": [
       "27"
      ]
     },
     "execution_count": 4,
     "metadata": {},
     "output_type": "execute_result"
    }
   ],
   "source": [
    "len(cidades)"
   ]
  },
  {
   "cell_type": "code",
   "execution_count": null,
   "metadata": {},
   "outputs": [],
   "source": [
    "cidade = int(input(\"Digite o código da cidade: \"))\n",
    "if categoria ==1: # '==' significa uma condição de igualdade, se a categoria for igual a 1 roda o programa.\n",
    "    c= (informacoes[0]['resultados'][0]['series'][2]['localidade']['nome'])\n",
    "    print(f\"A cidad é {:d}\")\n",
    "elif categoria ==2:\n",
    "    preço=18\n",
    "elif categoria ==3:\n",
    "    preço=23\n",
    "elif categoria ==4:\n",
    "    preço= 26\n",
    "elif categoria ==5:\n",
    "    preço = 31\n",
    "else:\n",
    "    print(\"Categoria inválida, digite um valor entre 1 e 5!\")\n",
    "    preço=0\n",
    "print(f\"O preço do produto é: R${preço:3.2f}\")"
   ]
  },
  {
   "cell_type": "code",
   "execution_count": null,
   "metadata": {},
   "outputs": [],
   "source": []
  }
 ],
 "metadata": {
  "kernelspec": {
   "display_name": "Python 3",
   "language": "python",
   "name": "python3"
  },
  "language_info": {
   "codemirror_mode": {
    "name": "ipython",
    "version": 3
   },
   "file_extension": ".py",
   "mimetype": "text/x-python",
   "name": "python",
   "nbconvert_exporter": "python",
   "pygments_lexer": "ipython3",
   "version": "3.10.9"
  },
  "orig_nbformat": 4
 },
 "nbformat": 4,
 "nbformat_minor": 2
}
