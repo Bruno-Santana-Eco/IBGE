{
 "cells": [
  {
   "cell_type": "code",
   "execution_count": 2,
   "metadata": {},
   "outputs": [
    {
     "name": "stdout",
     "output_type": "stream",
     "text": [
      "Note: you may need to restart the kernel to use updated packages.\n"
     ]
    },
    {
     "name": "stderr",
     "output_type": "stream",
     "text": [
      "ERROR: unknown command \"!\"\n",
      "\n"
     ]
    }
   ],
   "source": [
    "pip! install requests"
   ]
  },
  {
   "cell_type": "code",
   "execution_count": 1,
   "metadata": {},
   "outputs": [],
   "source": [
    "import requests\n",
    "import pprint"
   ]
  },
  {
   "cell_type": "code",
   "execution_count": 2,
   "metadata": {},
   "outputs": [],
   "source": [
    "link = \"https://servicodados.ibge.gov.br/api/v3/agregados/1287/periodos/1920|1940|1950|1960|1970|1980|1991|2000|2010/variaveis/591?localidades=N6[all]\"\n",
    "\n",
    "requisicao = requests.get(link)\n",
    "informacoes = requisicao.json()"
   ]
  },
  {
   "cell_type": "code",
   "execution_count": 6,
   "metadata": {},
   "outputs": [
    {
     "name": "stdout",
     "output_type": "stream",
     "text": [
      "['Porto Velho - RO', 'Rio Branco - AC', 'Manaus - AM', 'Boa Vista - RR', 'Belém - PA', 'Macapá - AP', 'Palmas - TO', 'São Luís - MA', 'Teresina - PI', 'Fortaleza - CE', 'Natal - RN', 'João Pessoa - PB', 'Recife - PE', 'Maceió - AL', 'Aracaju - SE', 'Salvador - BA', 'Belo Horizonte - MG', 'Vitória - ES', 'Rio de Janeiro - RJ', 'São Paulo - SP', 'Curitiba - PR', 'Florianópolis - SC', 'Porto Alegre - RS', 'Campo Grande - MS', 'Cuiabá - MT', 'Goiânia - GO', 'Brasília - DF']\n"
     ]
    }
   ],
   "source": [
    "# Lista para armazenar os nomes das cidades\n",
    "cidades = []\n",
    "\n",
    "# Acessar a estrutura do JSON e extrair as cidades\n",
    "for resultado in informacoes[0]['resultados']:\n",
    "    for serie in resultado['series']:\n",
    "        cidade = serie['localidade']['nome']\n",
    "        cidades.append(cidade)\n",
    "\n",
    "# Exibir a lista de cidades\n",
    "print(cidades)\n"
   ]
  },
  {
   "cell_type": "code",
   "execution_count": 4,
   "metadata": {},
   "outputs": [
    {
     "data": {
      "text/plain": [
       "27"
      ]
     },
     "execution_count": 4,
     "metadata": {},
     "output_type": "execute_result"
    }
   ],
   "source": [
    "len(cidades)"
   ]
  },
  {
   "attachments": {},
   "cell_type": "markdown",
   "metadata": {},
   "source": []
  },
  {
   "cell_type": "code",
   "execution_count": 12,
   "metadata": {},
   "outputs": [
    {
     "name": "stdout",
     "output_type": "stream",
     "text": [
      "Cidade selecionada: Manaus - AM\n"
     ]
    }
   ],
   "source": [
    "codigo = int(input(\"Digite o código da cidade: \"))\n",
    "\n",
    "if codigo >=0  and codigo < len(cidades):\n",
    "    cidade_sel = cidades[codigo]\n",
    "    print(\"Cidade selecionada:\", cidade_sel)\n",
    "else:\n",
    "    print(\"Código inválido\")"
   ]
  },
  {
   "attachments": {},
   "cell_type": "markdown",
   "metadata": {},
   "source": [
    "#### Os anos são:\n",
    "\n",
    "1. 1920\n",
    "2. 1940\n",
    "3. 1950\n",
    "4. 1960\n",
    "5. 1970\n",
    "6. 1980\n",
    "7. 1991\n",
    "8. 2000\n",
    "9. 2010\n",
    "10. 2020 (em breve)\n"
   ]
  },
  {
   "cell_type": "code",
   "execution_count": 31,
   "metadata": {},
   "outputs": [
    {
     "name": "stdout",
     "output_type": "stream",
     "text": [
      "População do ano 2010 da cidade de Manaus - AM: 1802014\n"
     ]
    }
   ],
   "source": [
    "codigo_cidade = int(input(\"Digite o código da cidade: \"))\n",
    "ano = str(input(\"Digite o ano: \"))\n",
    "cidade_selecionada = cidades[codigo_cidade]\n",
    "populacao = informacoes[0]['resultados'][0]['series'][codigo_cidade]['serie'].get(ano)\n",
    "\n",
    "if populacao is not None:\n",
    "    print(f\"População do ano {ano} da cidade de {cidade_selecionada}: {populacao}\")\n",
    "else:\n",
    "    print(f\"Dados de população indisponíveis para o ano {ano} da cidade de {cidade_selecionada}.\")"
   ]
  },
  {
   "cell_type": "code",
   "execution_count": 30,
   "metadata": {},
   "outputs": [
    {
     "name": "stdout",
     "output_type": "stream",
     "text": [
      "1802014\n"
     ]
    }
   ],
   "source": [
    "populacao = informacoes[0]['resultados'][0]['series'][2]['serie']['2010']\n",
    "print(populacao)"
   ]
  },
  {
   "cell_type": "code",
   "execution_count": null,
   "metadata": {},
   "outputs": [],
   "source": []
  }
 ],
 "metadata": {
  "kernelspec": {
   "display_name": "Python 3",
   "language": "python",
   "name": "python3"
  },
  "language_info": {
   "codemirror_mode": {
    "name": "ipython",
    "version": 3
   },
   "file_extension": ".py",
   "mimetype": "text/x-python",
   "name": "python",
   "nbconvert_exporter": "python",
   "pygments_lexer": "ipython3",
   "version": "3.10.9"
  },
  "orig_nbformat": 4
 },
 "nbformat": 4,
 "nbformat_minor": 2
}
