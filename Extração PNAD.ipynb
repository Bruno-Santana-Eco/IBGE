{
 "cells": [
  {
   "cell_type": "code",
   "execution_count": 1,
   "metadata": {},
   "outputs": [
    {
     "name": "stdout",
     "output_type": "stream",
     "text": [
      "Note: you may need to restart the kernel to use updated packages.\n"
     ]
    },
    {
     "name": "stderr",
     "output_type": "stream",
     "text": [
      "ERROR: unknown command \"!\"\n",
      "\n"
     ]
    }
   ],
   "source": [
    "pip! install requests"
   ]
  },
  {
   "cell_type": "code",
   "execution_count": 2,
   "metadata": {},
   "outputs": [
    {
     "data": {
      "text/plain": [
       "'c:\\\\Users\\\\brunobezerra\\\\PYTHON PROJETOS\\\\PROJETOS\\\\IBGE'"
      ]
     },
     "execution_count": 2,
     "metadata": {},
     "output_type": "execute_result"
    }
   ],
   "source": [
    "pwd"
   ]
  },
  {
   "cell_type": "code",
   "execution_count": 3,
   "metadata": {},
   "outputs": [],
   "source": [
    "import requests\n",
    "import pprint"
   ]
  },
  {
   "cell_type": "code",
   "execution_count": 4,
   "metadata": {},
   "outputs": [],
   "source": [
    "link = \"https://servicodados.ibge.gov.br/api/v3/agregados/6407/periodos/2022/variaveis/606?localidades=N1[all]|N2[2]|N6[2927408]&classificacao=2[4]|58[114535,2793,1144,1145]\"\n",
    "\n",
    "requisicao = requests.get(link)\n",
    "informacoes = requisicao.json()"
   ]
  },
  {
   "cell_type": "code",
   "execution_count": 6,
   "metadata": {},
   "outputs": [
    {
     "name": "stdout",
     "output_type": "stream",
     "text": [
      "{'id': '606',\n",
      " 'resultados': [{'classificacoes': [{'categoria': {'4': 'Homens'},\n",
      "                                     'id': '2',\n",
      "                                     'nome': 'Sexo'},\n",
      "                                    {'categoria': {'114535': '14 a 17 anos'},\n",
      "                                     'id': '58',\n",
      "                                     'nome': 'Grupo de idade'}],\n",
      "                 'series': [{'localidade': {'id': '1',\n",
      "                                            'nivel': {'id': 'N1',\n",
      "                                                      'nome': 'Brasil'},\n",
      "                                            'nome': 'Brasil'},\n",
      "                             'serie': {'2022': '6203'}},\n",
      "                            {'localidade': {'id': '2',\n",
      "                                            'nivel': {'id': 'N2',\n",
      "                                                      'nome': 'Grande Região'},\n",
      "                                            'nome': 'Nordeste'},\n",
      "                             'serie': {'2022': '1855'}},\n",
      "                            {'localidade': {'id': '2927408',\n",
      "                                            'nivel': {'id': 'N6',\n",
      "                                                      'nome': 'Município'},\n",
      "                                            'nome': 'Salvador (BA)'},\n",
      "                             'serie': {'2022': '79'}}]},\n",
      "                {'classificacoes': [{'categoria': {'4': 'Homens'},\n",
      "                                     'id': '2',\n",
      "                                     'nome': 'Sexo'},\n",
      "                                    {'categoria': {'2793': '18 a 19 anos'},\n",
      "                                     'id': '58',\n",
      "                                     'nome': 'Grupo de idade'}],\n",
      "                 'series': [{'localidade': {'id': '1',\n",
      "                                            'nivel': {'id': 'N1',\n",
      "                                                      'nome': 'Brasil'},\n",
      "                                            'nome': 'Brasil'},\n",
      "                             'serie': {'2022': '3083'}},\n",
      "                            {'localidade': {'id': '2',\n",
      "                                            'nivel': {'id': 'N2',\n",
      "                                                      'nome': 'Grande Região'},\n",
      "                                            'nome': 'Nordeste'},\n",
      "                             'serie': {'2022': '920'}},\n",
      "                            {'localidade': {'id': '2927408',\n",
      "                                            'nivel': {'id': 'N6',\n",
      "                                                      'nome': 'Município'},\n",
      "                                            'nome': 'Salvador (BA)'},\n",
      "                             'serie': {'2022': '32'}}]},\n",
      "                {'classificacoes': [{'categoria': {'4': 'Homens'},\n",
      "                                     'id': '2',\n",
      "                                     'nome': 'Sexo'},\n",
      "                                    {'categoria': {'1144': '20 a 24 anos'},\n",
      "                                     'id': '58',\n",
      "                                     'nome': 'Grupo de idade'}],\n",
      "                 'series': [{'localidade': {'id': '1',\n",
      "                                            'nivel': {'id': 'N1',\n",
      "                                                      'nome': 'Brasil'},\n",
      "                                            'nome': 'Brasil'},\n",
      "                             'serie': {'2022': '8448'}},\n",
      "                            {'localidade': {'id': '2',\n",
      "                                            'nivel': {'id': 'N2',\n",
      "                                                      'nome': 'Grande Região'},\n",
      "                                            'nome': 'Nordeste'},\n",
      "                             'serie': {'2022': '2248'}},\n",
      "                            {'localidade': {'id': '2927408',\n",
      "                                            'nivel': {'id': 'N6',\n",
      "                                                      'nome': 'Município'},\n",
      "                                            'nome': 'Salvador (BA)'},\n",
      "                             'serie': {'2022': '112'}}]},\n",
      "                {'classificacoes': [{'categoria': {'4': 'Homens'},\n",
      "                                     'id': '2',\n",
      "                                     'nome': 'Sexo'},\n",
      "                                    {'categoria': {'1145': '25 a 29 anos'},\n",
      "                                     'id': '58',\n",
      "                                     'nome': 'Grupo de idade'}],\n",
      "                 'series': [{'localidade': {'id': '1',\n",
      "                                            'nivel': {'id': 'N1',\n",
      "                                                      'nome': 'Brasil'},\n",
      "                                            'nome': 'Brasil'},\n",
      "                             'serie': {'2022': '8537'}},\n",
      "                            {'localidade': {'id': '2',\n",
      "                                            'nivel': {'id': 'N2',\n",
      "                                                      'nome': 'Grande Região'},\n",
      "                                            'nome': 'Nordeste'},\n",
      "                             'serie': {'2022': '2297'}},\n",
      "                            {'localidade': {'id': '2927408',\n",
      "                                            'nivel': {'id': 'N6',\n",
      "                                                      'nome': 'Município'},\n",
      "                                            'nome': 'Salvador (BA)'},\n",
      "                             'serie': {'2022': '105'}}]}],\n",
      " 'unidade': 'Mil pessoas',\n",
      " 'variavel': 'População'}\n"
     ]
    }
   ],
   "source": [
    "pprint.pprint(informacoes[0][])"
   ]
  },
  {
   "cell_type": "code",
   "execution_count": null,
   "metadata": {},
   "outputs": [],
   "source": []
  }
 ],
 "metadata": {
  "kernelspec": {
   "display_name": "Python 3",
   "language": "python",
   "name": "python3"
  },
  "language_info": {
   "codemirror_mode": {
    "name": "ipython",
    "version": 3
   },
   "file_extension": ".py",
   "mimetype": "text/x-python",
   "name": "python",
   "nbconvert_exporter": "python",
   "pygments_lexer": "ipython3",
   "version": "3.10.9"
  },
  "orig_nbformat": 4
 },
 "nbformat": 4,
 "nbformat_minor": 2
}
